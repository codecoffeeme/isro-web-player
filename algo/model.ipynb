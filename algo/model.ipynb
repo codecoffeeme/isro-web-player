{
 "cells": [
  {
   "cell_type": "code",
   "execution_count": 2,
   "metadata": {},
   "outputs": [],
   "source": [
    "import torch\n",
    "import PIL\n",
    "import numpy as np"
   ]
  },
  {
   "cell_type": "code",
   "execution_count": 10,
   "metadata": {},
   "outputs": [],
   "source": [
    "batch_size = 32\n",
    "learning_rate = 1e-3\n",
    "num_epochs = 20"
   ]
  },
  {
   "cell_type": "code",
   "execution_count": null,
   "metadata": {},
   "outputs": [],
   "source": []
  },
  {
   "cell_type": "code",
   "execution_count": 11,
   "metadata": {},
   "outputs": [],
   "source": [
    "class Network(torch.nn.Module):\n",
    "    def __init__(self):\n",
    "        super(Network, self).__init__()\n",
    "\n",
    "        def Basic(intInput, intOutput):\n",
    "            return torch.nn.Sequential(\n",
    "                torch.nn.Conv2d(in_channels=intInput, out_channels=intOutput, kernel_size=3, stride=1, padding=1),\n",
    "                torch.nn.ReLU(inplace=False),\n",
    "                torch.nn.Conv2d(in_channels=intOutput, out_channels=intOutput, kernel_size=3, stride=1, padding=1),\n",
    "                torch.nn.ReLU(inplace=False),\n",
    "                torch.nn.Conv2d(in_channels=intOutput, out_channels=intOutput, kernel_size=3, stride=1, padding=1),\n",
    "                torch.nn.ReLU(inplace=False),\n",
    "                torch.nn.MaxPool2d(kernel_size=2, stride=2))\n",
    "\n",
    "        def Deconv(intInput, intOutput):\n",
    "            return torch.nn.Sequential(\n",
    "                torch.nn.ConvTranspose2d(in_channels=intInput, out_channels=intOutput, kernel_size=4, stride=2, padding=1),\n",
    "                torch.nn.ReLU(inplace=False),\n",
    "                torch.nn.Conv2d(in_channels=intOutput, out_channels=intOutput, kernel_size=3, stride=1, padding=1),\n",
    "                torch.nn.ReLU(inplace=False),\n",
    "                torch.nn.Conv2d(in_channels=intOutput, out_channels=1, kernel_size=3, stride=1, padding=1),\n",
    "                torch.nn.ReLU(inplace=False))\n",
    "        \n",
    "        \n",
    "        self.convBlock1 = Basic(2, )\n",
    "        self.convBlock2 = Basic()\n",
    "        self.convBlock3 = Basic()\n",
    "        self.convBlock4 = Basic()\n",
    "        \n",
    "        \n",
    "        self.deconvBlock1 = Deconv()\n",
    "        self.deconvBlock2 = Deconv()\n",
    "        self.deconvBlock3 = Deconv()\n",
    "        self.deconvBlock4 = Deconv()\n",
    "    \n",
    "    def forward(self, input_image1, input_image2):\n",
    "        \n",
    "        varInput = torch.cat((input_image1,input_image2),2)  #heightxwidthx2\n",
    "        \n",
    "        \n",
    "        varConv1 = self.convBlock1(varInput) #x/2\n",
    "        \n",
    "        varConv2 = self.convBlock2(varConv1) #x/4\n",
    "        \n",
    "        varConv3 = self.convBlock3(varConv2) #x/8\n",
    "        \n",
    "        varConv4 = self.convBlock4(varConv3) #x/16\n",
    "        \n",
    "        varDeconv1 = self.deconvBlock1(varConv4) #x/8  \n",
    "        \n",
    "        \n",
    "        varComb1 = varUnpool1 + varConv3\n",
    "        \n",
    "        varDeconv2 = self.deconvBlock2(varComb1) #x/4\n",
    "        \n",
    "        varComb2 = varDeconv2 + varConv2\n",
    "        \n",
    "        varDeconv3 = self.deconvBlock3(varComb2) #x/2\n",
    "        \n",
    "        varDeconv4 = self.deconvBlock4(varDeconv3) #x \n",
    "        \n",
    "        \n",
    "        return varDeconv4\n",
    "\n",
    "    "
   ]
  },
  {
   "cell_type": "code",
   "execution_count": null,
   "metadata": {},
   "outputs": [],
   "source": [
    "model = conv_autoencoder().cuda()\n",
    "criterion = nn.MSELoss()\n",
    "optimizer = torch.optim.Adam(model.parameters(), lr=learning_rate,\n",
    "weight_decay=1e-5)"
   ]
  }
 ],
 "metadata": {
  "kernelspec": {
   "display_name": "sih",
   "language": "python",
   "name": "sih-c6a-tqjx"
  },
  "language_info": {
   "codemirror_mode": {
    "name": "ipython",
    "version": 3
   },
   "file_extension": ".py",
   "mimetype": "text/x-python",
   "name": "python",
   "nbconvert_exporter": "python",
   "pygments_lexer": "ipython3",
   "version": "3.5.2"
  }
 },
 "nbformat": 4,
 "nbformat_minor": 2
}
